{
 "cells": [
  {
   "cell_type": "code",
   "execution_count": 1,
   "id": "b340c8f1",
   "metadata": {},
   "outputs": [
    {
     "name": "stdout",
     "output_type": "stream",
     "text": [
      "gcc -Ofast -shared -fPIC -o ./build/lib_c_functions.so src/c_functions.c\r\n"
     ]
    }
   ],
   "source": [
    "!make"
   ]
  },
  {
   "cell_type": "code",
   "execution_count": 2,
   "id": "409c6f10",
   "metadata": {},
   "outputs": [],
   "source": [
    "from lib.util import RunMode, set_run_mode, load_image, process_image, parse_weight, find_all_boxes, nms, plot_boxes\n",
    "from lib.model import YOLOv2\n",
    "from IPython.display import Image\n",
    "\n",
    "import lib.util as util\n",
    "import lib.mytorch.conv as conv\n",
    "\n",
    "def run_test_stepN(stepN):\n",
    "    config = {\n",
    "        'run_mode': RunMode.C,\n",
    "        'current_step': stepN,\n",
    "        'image_path': './data/input/dog.jpg',\n",
    "        'output_path': './prediction.jpg',\n",
    "        'weight_path': './data/weight/yolov2-tiny-voc.weights',\n",
    "        'conf_thresh': 0.5,\n",
    "        'nms_thresh': 0.5,\n",
    "        'class_names' : ['aeroplane', 'bicycle', 'bird', 'boat', 'bottle',\n",
    "                   'bus', 'car', 'cat', 'chair', 'cow', 'diningtable',\n",
    "                   'dog', 'horse', 'motorbike', 'person', 'pottedplant',\n",
    "                   'sheep', 'sofa', 'train', 'TVmonitor'],\n",
    "        'anchors' : [[1.08, 1.19], [3.42, 4.41], [6.63, 11.38], [9.42, 5.11], [16.62, 10.52]]\n",
    "        }\n",
    "    \n",
    "    for k, v in config.items():\n",
    "        util.global_config[k] = v\n",
    "\n",
    "    set_run_mode(config['run_mode'])\n",
    "\n",
    "    # load weight\n",
    "    yolo_weight = parse_weight(config['weight_path'])\n",
    "\n",
    "    # preprocessing\n",
    "    img = load_image(config['image_path'])\n",
    "    inp = process_image(img)\n",
    "\n",
    "    # intermediate network\n",
    "    output = YOLOv2(inp, yolo_weight)\n",
    "\n",
    "    # postprocessing\n",
    "    boxes = find_all_boxes(output, config['conf_thresh'], len(config['class_names']), config['anchors'])[0]\n",
    "    boxes = nms(boxes, config['nms_thresh'])\n",
    "    plot_boxes(img, boxes, config['output_path'], config['class_names'])\n",
    "    \n",
    "    return config[\"output_path\"]"
   ]
  },
  {
   "cell_type": "code",
   "execution_count": 3,
   "id": "6d4a3b2d",
   "metadata": {
    "scrolled": false
   },
   "outputs": [
    {
     "name": "stdout",
     "output_type": "stream",
     "text": [
      "Pad0 in RunMode.C took 38.107 ms to execute.\n",
      "Conv2d0 in RunMode.C took 513.064 ms to execute.\n",
      "BatchNorm2d0 in RunMode.C took 95.866 ms to execute.\n",
      "MaxPool2d0 in RunMode.C took 65.503 ms to execute.\n",
      "LeakyReLU0 in RunMode.C took 4.673 ms to execute.\n",
      "Pad1 in RunMode.C took 64.156 ms to execute.\n",
      "Conv2d1 in RunMode.C took 2528.399 ms to execute.\n",
      "BatchNorm2d1 in RunMode.C took 50.182 ms to execute.\n",
      "MaxPool2d1 in RunMode.C took 33.983 ms to execute.\n",
      "LeakyReLU1 in RunMode.C took 2.581 ms to execute.\n",
      "Pad2 in RunMode.C took 34.415 ms to execute.\n",
      "Conv2d2 in RunMode.C took 1777.012 ms to execute.\n",
      "BatchNorm2d2 in RunMode.C took 26.271 ms to execute.\n",
      "MaxPool2d2 in RunMode.C took 17.690 ms to execute.\n",
      "LeakyReLU2 in RunMode.C took 1.505 ms to execute.\n",
      "Pad3 in RunMode.C took 18.942 ms to execute.\n",
      "Conv2d3 in RunMode.C took 1408.837 ms to execute.\n",
      "BatchNorm2d3 in RunMode.C took 13.050 ms to execute.\n",
      "MaxPool2d3 in RunMode.C took 9.275 ms to execute.\n",
      "LeakyReLU3 in RunMode.C took 0.753 ms to execute.\n",
      "Pad4 in RunMode.C took 10.681 ms to execute.\n",
      "Conv2d4 in RunMode.C took 1230.544 ms to execute.\n",
      "BatchNorm2d4 in RunMode.C took 6.881 ms to execute.\n",
      "MaxPool2d4 in RunMode.C took 4.808 ms to execute.\n",
      "LeakyReLU4 in RunMode.C took 0.556 ms to execute.\n",
      "Pad5 in RunMode.C took 2.927 ms to execute.\n",
      "Conv2d5 in RunMode.C took 1221.512 ms to execute.\n",
      "BatchNorm2d5 in RunMode.C took 3.667 ms to execute.\n",
      "Pad6 in RunMode.C took 11.581 ms to execute.\n",
      "MaxPool2d5 in RunMode.C took 9.722 ms to execute.\n",
      "LeakyReLU5 in RunMode.C took 0.773 ms to execute.\n",
      "Pad7 in RunMode.C took 5.816 ms to execute.\n",
      "Conv2d6 in RunMode.C took 5768.987 ms to execute.\n",
      "BatchNorm2d6 in RunMode.C took 7.470 ms to execute.\n",
      "LeakyReLU6 in RunMode.C took 1.232 ms to execute.\n",
      "Pad8 in RunMode.C took 11.794 ms to execute.\n",
      "Conv2d7 in RunMode.C took 17306.732 ms to execute.\n",
      "BatchNorm2d7 in RunMode.C took 7.372 ms to execute.\n",
      "LeakyReLU7 in RunMode.C took 1.110 ms to execute.\n",
      "Conv2d8 in RunMode.C took 89.886 ms to execute.\n"
     ]
    },
    {
     "data": {
      "image/jpeg": "[encoded data removed]",
      "text/plain": [
       "<IPython.core.display.Image object>"
      ]
     },
     "execution_count": 3,
     "metadata": {},
     "output_type": "execute_result"
    }
   ],
   "source": [
    "image_path = run_test_stepN(stepN = 2)\n",
    "Image(filename=image_path)"
   ]
  },
  {
   "cell_type": "code",
   "execution_count": 4,
   "id": "0ae5528d",
   "metadata": {},
   "outputs": [
    {
     "name": "stdout",
     "output_type": "stream",
     "text": [
      "Pad9 in RunMode.C took 38.358 ms to execute.\n",
      "Conv2d9 in RunMode.C took 6376.577 ms to execute.\n",
      "BatchNorm2d8 in RunMode.C took 96.060 ms to execute.\n",
      "MaxPool2d6 in RunMode.C took 65.939 ms to execute.\n",
      "LeakyReLU8 in RunMode.C took 5.016 ms to execute.\n",
      "Pad10 in RunMode.C took 64.244 ms to execute.\n",
      "Conv2d10 in RunMode.C took 14173.197 ms to execute.\n",
      "BatchNorm2d9 in RunMode.C took 50.177 ms to execute.\n",
      "MaxPool2d7 in RunMode.C took 33.983 ms to execute.\n",
      "LeakyReLU9 in RunMode.C took 2.564 ms to execute.\n",
      "Pad11 in RunMode.C took 54.819 ms to execute.\n",
      "Conv2d11 in RunMode.C took 13806.959 ms to execute.\n",
      "BatchNorm2d10 in RunMode.C took 26.302 ms to execute.\n",
      "MaxPool2d8 in RunMode.C took 17.753 ms to execute.\n",
      "LeakyReLU10 in RunMode.C took 1.091 ms to execute.\n",
      "Pad12 in RunMode.C took 18.505 ms to execute.\n",
      "Conv2d12 in RunMode.C took 13796.743 ms to execute.\n",
      "BatchNorm2d11 in RunMode.C took 13.779 ms to execute.\n",
      "MaxPool2d9 in RunMode.C took 9.314 ms to execute.\n",
      "LeakyReLU11 in RunMode.C took 0.725 ms to execute.\n",
      "Pad13 in RunMode.C took 10.672 ms to execute.\n",
      "Conv2d13 in RunMode.C took 13787.897 ms to execute.\n",
      "BatchNorm2d12 in RunMode.C took 6.877 ms to execute.\n",
      "MaxPool2d10 in RunMode.C took 4.821 ms to execute.\n",
      "LeakyReLU12 in RunMode.C took 0.523 ms to execute.\n",
      "Pad14 in RunMode.C took 2.935 ms to execute.\n",
      "Conv2d14 in RunMode.C took 15268.527 ms to execute.\n",
      "BatchNorm2d13 in RunMode.C took 3.601 ms to execute.\n",
      "Pad15 in RunMode.C took 11.626 ms to execute.\n",
      "MaxPool2d11 in RunMode.C took 9.738 ms to execute.\n",
      "LeakyReLU13 in RunMode.C took 0.742 ms to execute.\n",
      "Pad16 in RunMode.C took 5.754 ms to execute.\n",
      "Conv2d15 in RunMode.C took 61273.009 ms to execute.\n",
      "BatchNorm2d14 in RunMode.C took 7.452 ms to execute.\n",
      "LeakyReLU14 in RunMode.C took 1.125 ms to execute.\n",
      "Pad17 in RunMode.C took 11.825 ms to execute.\n",
      "Conv2d16 in RunMode.C took 122391.311 ms to execute.\n",
      "BatchNorm2d15 in RunMode.C took 7.451 ms to execute.\n",
      "LeakyReLU15 in RunMode.C took 1.121 ms to execute.\n",
      "Conv2d17 in RunMode.C took 1687.691 ms to execute.\n"
     ]
    },
    {
     "data": {
      "image/jpeg": "[encoded data removed]",
      "text/plain": [
       "<IPython.core.display.Image object>"
      ]
     },
     "execution_count": 4,
     "metadata": {},
     "output_type": "execute_result"
    }
   ],
   "source": [
    "image_path = run_test_stepN(stepN = 3)\n",
    "Image(filename=image_path)"
   ]
  },
  {
   "cell_type": "code",
   "execution_count": null,
   "id": "070cf64a",
   "metadata": {},
   "outputs": [],
   "source": []
  }
 ],
 "metadata": {
  "kernelspec": {
   "display_name": "Python 3 (ipykernel)",
   "language": "python",
   "name": "python3"
  },
  "language_info": {
   "codemirror_mode": {
    "name": "ipython",
    "version": 3
   },
   "file_extension": ".py",
   "mimetype": "text/x-python",
   "name": "python",
   "nbconvert_exporter": "python",
   "pygments_lexer": "ipython3",
   "version": "3.10.4"
  }
 },
 "nbformat": 4,
 "nbformat_minor": 5
}
