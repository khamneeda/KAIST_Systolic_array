{
 "cells": [
  {
   "cell_type": "code",
   "execution_count": 1,
   "id": "07f20321",
   "metadata": {},
   "outputs": [
    {
     "data": {
      "application/javascript": [
       "\n",
       "try {\n",
       "require(['notebook/js/codecell'], function(codecell) {\n",
       "  codecell.CodeCell.options_default.highlight_modes[\n",
       "      'magic_text/x-csrc'] = {'reg':[/^%%microblaze/]};\n",
       "  Jupyter.notebook.events.one('kernel_ready.Kernel', function(){\n",
       "      Jupyter.notebook.get_cells().map(function(cell){\n",
       "          if (cell.cell_type == 'code'){ cell.auto_highlight(); } }) ;\n",
       "  });\n",
       "});\n",
       "} catch (e) {};\n"
      ]
     },
     "metadata": {},
     "output_type": "display_data"
    },
    {
     "data": {
      "application/javascript": [
       "\n",
       "try {\n",
       "require(['notebook/js/codecell'], function(codecell) {\n",
       "  codecell.CodeCell.options_default.highlight_modes[\n",
       "      'magic_text/x-csrc'] = {'reg':[/^%%pybind11/]};\n",
       "  Jupyter.notebook.events.one('kernel_ready.Kernel', function(){\n",
       "      Jupyter.notebook.get_cells().map(function(cell){\n",
       "          if (cell.cell_type == 'code'){ cell.auto_highlight(); } }) ;\n",
       "  });\n",
       "});\n",
       "} catch (e) {};\n"
      ]
     },
     "metadata": {},
     "output_type": "display_data"
    }
   ],
   "source": [
    "from pynq import Overlay, PL\n",
    "import pynq\n",
    "\n",
    "PL.reset()\n",
    "ol = Overlay(\"CS411_team4_step4.bit\")\n",
    "\n",
    "bram_sp_arr = ol.axi_bram_ctrl_0.mmio.array\n",
    "bram_a_arr = ol.axi_bram_ctrl_1.mmio.array\n",
    "bram_w_arr = ol.axi_bram_ctrl_2.mmio.array\n",
    "bram_o_arr = ol.axi_bram_ctrl_3.mmio.array"
   ]
  },
  {
   "cell_type": "code",
   "execution_count": 2,
   "id": "fb159261",
   "metadata": {},
   "outputs": [],
   "source": [
    "import numpy as np\n",
    "def matmul_OS (mat1: np.array, mat2: np.array):\n",
    "    assert(mat1.shape[1] == mat2.shape[0])\n",
    "    M = 8\n",
    "    N = 8\n",
    "    K = 8\n",
    "    \n",
    "    mat1_uint = mat1.astype(np.uint32)\n",
    "    mat2_uint = mat2.astype(np.uint32)\n",
    "    \n",
    "    mat1_pad = np.zeros((M, K)).astype(np.uint32)\n",
    "    mat2_pad = np.zeros((K, N)).astype(np.uint32)\n",
    "    mat1_pad[0:mat1.shape[0], 0:mat1.shape[1]] = mat1_uint\n",
    "    mat2_pad[0:mat2.shape[0], 0:mat2.shape[1]] = mat2_uint\n",
    "\n",
    "\n",
    "    # load data to BRAM \n",
    "    bram_a_arr[0:M * K] = mat1_pad.flatten()\n",
    "    bram_w_arr[0:K * N] = mat2_pad.flatten()\n",
    "    \n",
    "    #=============== HW RUNNIG ==================#\n",
    "    # set Special Memory to specify M,K,N and mode (1: OS)    \n",
    "    bram_sp_arr[1] = 1\n",
    "    bram_sp_arr[2] = M\n",
    "    bram_sp_arr[3] = K\n",
    "    bram_sp_arr[4] = N\n",
    "    # start (set sp(addr0) = 1)\n",
    "    bram_sp_arr[0] = 1\n",
    "    #while until sp(addr0) => 0 or sp(addr100) =>1 \n",
    "    while(bram_sp_arr[25] != 1):\n",
    "        pass\n",
    "    # get data from BARM_O\n",
    "    bram_sp_arr[25] = 0\n",
    "    \n",
    "    #=============== HW END =====================#\n",
    "\n",
    "\n",
    "    return bram_o_arr[0:M * N].astype(np.int32).reshape(M, N)[0:mat1.shape[0], 0:mat2.shape[1]]\n",
    "    \n",
    "\n",
    "def matmul_WS (mat1: np.array, mat2: np.array):\n",
    "    assert(mat1.shape[1] == mat2.shape[0])\n",
    "    M = 8\n",
    "    N = 8\n",
    "    K = 8\n",
    "    \n",
    "    mat1_uint = mat1.astype(np.uint32)\n",
    "    mat2_uint = mat2.astype(np.uint32)\n",
    "    \n",
    "    mat1_pad = np.zeros((M, K)).astype(np.uint32)\n",
    "    mat2_pad = np.zeros((K, N)).astype(np.uint32)\n",
    "    mat1_pad[0:mat1.shape[0], 0:mat1.shape[1]] = mat1_uint\n",
    "    mat2_pad[0:mat2.shape[0], 0:mat2.shape[1]] = mat2_uint\n",
    "\n",
    "    # load data to BRAM \n",
    "    bram_a_arr[0:M * K] = mat1_pad.flatten()\n",
    "    bram_w_arr[0:K * N] = mat2_pad.flatten()\n",
    "       \n",
    "    #=============== HW RUNNIG ==================#\n",
    "    # set Special Memory to specify M,K,N and mode (1: OS)    \n",
    "    bram_sp_arr[1] = 0\n",
    "    bram_sp_arr[2] = M\n",
    "    bram_sp_arr[3] = K\n",
    "    bram_sp_arr[4] = N\n",
    "    # start (set sp(addr0) = 1)\n",
    "    bram_sp_arr[0] = 1\n",
    "    #while until sp(addr0) => 0 or sp(addr100) =>1 \n",
    "    while(bram_sp_arr[25] != 1):\n",
    "        pass\n",
    "    # get data from BARM_O\n",
    "    bram_sp_arr[25] = 0\n",
    "    \n",
    "    #=============== HW END =====================#\n",
    "    \n",
    "    \n",
    "    return bram_o_arr[0:M * N].astype(np.int32).reshape(M, N)[0:mat1.shape[0], 0:mat2.shape[1]]"
   ]
  },
  {
   "cell_type": "code",
   "execution_count": 3,
   "id": "e4c1e719",
   "metadata": {},
   "outputs": [],
   "source": [
    "import random\n",
    "\n",
    "VAL_MIN, VAL_MAX = -(1<<12), 1<<12\n",
    "\n",
    "def test_OS():\n",
    "    score = 0\n",
    "    num_test = 0\n",
    "    \n",
    "    for _ in range (100):\n",
    "        num_test = num_test +1\n",
    "        \n",
    "        M = random.randint(1,8)\n",
    "        K = random.randint(1,8)\n",
    "        N = random.randint(1,8)\n",
    "        \n",
    "        mat1 = np.random.randint(VAL_MIN, VAL_MAX, size=(K,M)) #np.ones((K,M))#\n",
    "        mat2 = np.random.randint(VAL_MIN, VAL_MAX, size=(M,N))#np.ones((M,N))#\n",
    "        \n",
    "        FPGA = matmul_OS(mat1, mat2)\n",
    "        CPU = mat1@mat2\n",
    "        \n",
    "        if(np.equal(FPGA, CPU).all()):\n",
    "            score = score + 1\n",
    "            \n",
    "    return score/num_test*100\n",
    "\n",
    "def test_WS():\n",
    "    score = 0\n",
    "    num_test = 0\n",
    "    \n",
    "    for _ in range (100):\n",
    "        num_test = num_test +1\n",
    "        \n",
    "        M = random.randint(1,8)\n",
    "        K = random.randint(1,8)\n",
    "        N = random.randint(1,8)\n",
    "        \n",
    "        mat1 = np.random.randint(VAL_MIN, VAL_MAX, size=(K,M)) #np.ones((K,M))#\n",
    "        mat2 = np.random.randint(VAL_MIN, VAL_MAX, size=(M,N))#np.ones((M,N))#\n",
    "        \n",
    "        FPGA = matmul_WS(mat1, mat2)\n",
    "        CPU = mat1@mat2\n",
    "        \n",
    "        if(np.equal(FPGA, CPU).all()):\n",
    "            score = score + 1\n",
    "            \n",
    "    return score/num_test*100"
   ]
  },
  {
   "cell_type": "code",
   "execution_count": 4,
   "id": "945381a0",
   "metadata": {},
   "outputs": [],
   "source": [
    "def test_STEP1():\n",
    "    ws_res = test_WS()\n",
    "    os_res = test_OS()\n",
    "    \n",
    "    print(f\"WS: {ws_res} / 100, OS: {os_res} / 100\")\n",
    "    print(f\"SCORE : {(ws_res + os_res) * 0.5} / 100\")"
   ]
  },
  {
   "cell_type": "code",
   "execution_count": 5,
   "id": "bd6915f4",
   "metadata": {
    "scrolled": true
   },
   "outputs": [
    {
     "name": "stdout",
     "output_type": "stream",
     "text": [
      "WS: 100.0 / 100, OS: 100.0 / 100\n",
      "SCORE : 100.0 / 100\n"
     ]
    }
   ],
   "source": [
    "test_STEP1()"
   ]
  },
  {
   "cell_type": "code",
   "execution_count": null,
   "id": "86c97dae",
   "metadata": {},
   "outputs": [],
   "source": []
  }
 ],
 "metadata": {
  "kernelspec": {
   "display_name": "Python 3 (ipykernel)",
   "language": "python",
   "name": "python3"
  },
  "language_info": {
   "codemirror_mode": {
    "name": "ipython",
    "version": 3
   },
   "file_extension": ".py",
   "mimetype": "text/x-python",
   "name": "python",
   "nbconvert_exporter": "python",
   "pygments_lexer": "ipython3",
   "version": "3.10.4"
  }
 },
 "nbformat": 4,
 "nbformat_minor": 5
}
