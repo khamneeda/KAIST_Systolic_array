{
 "cells": [
  {
   "cell_type": "markdown",
   "id": "177628dc",
   "metadata": {},
   "source": [
    " # STEP 4\n",
    " ### make your \"matmul_OS_proj3\" and \"matmul_WS_proj3\"\n",
    " ### You can check your score with STEP4_test() function."
   ]
  },
  {
   "cell_type": "code",
   "execution_count": 1,
   "id": "730c7343",
   "metadata": {},
   "outputs": [],
   "source": [
    "from pynq import PL\n",
    "PL.reset()"
   ]
  },
  {
   "cell_type": "code",
   "execution_count": 2,
   "id": "09ac11c9",
   "metadata": {},
   "outputs": [
    {
     "data": {
      "application/javascript": "\ntry {\nrequire(['notebook/js/codecell'], function(codecell) {\n  codecell.CodeCell.options_default.highlight_modes[\n      'magic_text/x-csrc'] = {'reg':[/^%%microblaze/]};\n  Jupyter.notebook.events.one('kernel_ready.Kernel', function(){\n      Jupyter.notebook.get_cells().map(function(cell){\n          if (cell.cell_type == 'code'){ cell.auto_highlight(); } }) ;\n  });\n});\n} catch (e) {};\n"
     },
     "metadata": {},
     "output_type": "display_data"
    },
    {
     "data": {
      "application/javascript": "\ntry {\nrequire(['notebook/js/codecell'], function(codecell) {\n  codecell.CodeCell.options_default.highlight_modes[\n      'magic_text/x-csrc'] = {'reg':[/^%%pybind11/]};\n  Jupyter.notebook.events.one('kernel_ready.Kernel', function(){\n      Jupyter.notebook.get_cells().map(function(cell){\n          if (cell.cell_type == 'code'){ cell.auto_highlight(); } }) ;\n  });\n});\n} catch (e) {};\n"
     },
     "metadata": {},
     "output_type": "display_data"
    }
   ],
   "source": [
    "from pynq import Overlay\n",
    "ol = Overlay(\"bitstream_team4.bit\")"
   ]
  },
  {
   "cell_type": "code",
   "execution_count": 3,
   "id": "219e6147",
   "metadata": {},
   "outputs": [],
   "source": [
    "ol?"
   ]
  },
  {
   "cell_type": "code",
   "execution_count": 4,
   "id": "34d5710a",
   "metadata": {},
   "outputs": [
    {
     "name": "stdout",
     "output_type": "stream",
     "text": [
      "25.0\n"
     ]
    }
   ],
   "source": [
    "import pynq\n",
    "# You can change the clock frequency #\n",
    "pynq.ps.Clocks.fclk0_mhz = 25 #(unit: MHz)\n",
    "print(pynq.ps.Clocks.fclk0_mhz)"
   ]
  },
  {
   "cell_type": "markdown",
   "id": "592e81de",
   "metadata": {},
   "source": [
    "#### This is the instance of bram controller, you can insert the values via using this."
   ]
  },
  {
   "cell_type": "code",
   "execution_count": 5,
   "id": "fa3018f6",
   "metadata": {},
   "outputs": [],
   "source": [
    "bram_sp_arr = ol.axi_bram_ctrl_0.mmio.array\n",
    "bram_a_arr = ol.axi_bram_ctrl_1.mmio.array\n",
    "bram_w_arr = ol.axi_bram_ctrl_2.mmio.array\n",
    "bram_o_arr = ol.axi_bram_ctrl_3.mmio.array"
   ]
  },
  {
   "cell_type": "markdown",
   "id": "d08f4e32",
   "metadata": {},
   "source": [
    "# TODO\n",
    "### Put the matrix in BRAM the way you designed it.\n",
    "### Set the parameters in SP_BRAM (you can add more parameters for project 3 if you want)\n"
   ]
  },
  {
   "cell_type": "code",
   "execution_count": 6,
   "id": "0d5e0bad",
   "metadata": {},
   "outputs": [],
   "source": [
    "import numpy as np\n",
    "import random \n",
    "import time\n",
    "\n",
    "def matmul_OS_proj3  (mat1: np.array, mat2: np.array):\n",
    "    assert(mat1.shape[1] == mat2.shape[0])\n",
    "    TILING = 8\n",
    "\n",
    "    mat1_uint = mat1.astype(np.uint32)\n",
    "    mat2_uint = mat2.astype(np.uint32)\n",
    "\n",
    "    # ======matrix into BRAM ===== #\n",
    "    M = ((mat1.shape[0] + TILING - 1) // TILING) * TILING\n",
    "    K = ((mat1.shape[1] + TILING - 1) // TILING) * TILING\n",
    "    N = ((mat2.shape[1] + TILING - 1) // TILING) * TILING\n",
    "    mat1_pad = np.zeros((M, K)).astype(np.uint32)\n",
    "    mat2_pad = np.zeros((K, N)).astype(np.uint32)\n",
    "    mat1_pad[0:mat1.shape[0], 0:mat1.shape[1]] = mat1_uint\n",
    "    mat2_pad[0:mat2.shape[0], 0:mat2.shape[1]] = mat2_uint\n",
    "    bram_a_arr[0:M * K] = mat1_pad.flatten()\n",
    "    bram_w_arr[0:K * N] = mat2_pad.flatten()\n",
    "\n",
    "    \n",
    "    #=============== HW RUNNIG ==================#\n",
    "    # set Special Memory to specify M,K,N and mode (1: OS)    \n",
    "    bram_sp_arr[1] = 1\n",
    "    bram_sp_arr[2] = M\n",
    "    bram_sp_arr[3] = K\n",
    "    bram_sp_arr[4] = N\n",
    "    # start (set sp(addr0) = 1)\n",
    "    bram_sp_arr[0] = 1\n",
    "    #while until sp(addr0) => 0 or sp(addr100) =>1 \n",
    "    while(bram_sp_arr[25] != 1):\n",
    "        pass\n",
    "    # get data from BARM_O\n",
    "    bram_sp_arr[25] = 0\n",
    "    \n",
    "    #=============== HW END =====================#\n",
    "\n",
    "\n",
    "    return bram_o_arr[0:M * N].astype(np.int32).reshape(M, N)[0:mat1.shape[0], 0:mat2.shape[1]]\n",
    "\n",
    "def matmul_WS_proj3 (mat1: np.array, mat2: np.array):\n",
    "    assert(mat1.shape[1] == mat2.shape[0])\n",
    "    TILING = 8\n",
    "\n",
    "    mat1_uint = mat1.astype(np.uint32)\n",
    "    mat2_uint = mat2.astype(np.uint32)\n",
    "\n",
    "    # ======matrix into BRAM ===== #\n",
    "    M = ((mat1.shape[0] + TILING - 1) // TILING) * TILING\n",
    "    K = ((mat1.shape[1] + TILING - 1) // TILING) * TILING\n",
    "    N = ((mat2.shape[1] + TILING - 1) // TILING) * TILING\n",
    "    mat1_pad = np.zeros((M, K)).astype(np.uint32)\n",
    "    mat2_pad = np.zeros((K, N)).astype(np.uint32)\n",
    "    mat1_pad[0:mat1.shape[0], 0:mat1.shape[1]] = mat1_uint\n",
    "    mat2_pad[0:mat2.shape[0], 0:mat2.shape[1]] = mat2_uint\n",
    "    bram_a_arr[0:M * K] = mat1_pad.flatten()\n",
    "    bram_w_arr[0:K * N] = mat2_pad.flatten()\n",
    "\n",
    "    \n",
    "    #=============== HW RUNNIG ==================#\n",
    "    # set Special Memory to specify M,K,N and mode (1: OS)    \n",
    "    bram_sp_arr[1] = 0\n",
    "    bram_sp_arr[2] = M\n",
    "    bram_sp_arr[3] = K\n",
    "    bram_sp_arr[4] = N\n",
    "    # start (set sp(addr0) = 1)\n",
    "    bram_sp_arr[0] = 1\n",
    "    #while until sp(addr0) => 0 or sp(addr100) =>1 \n",
    "    while(bram_sp_arr[25] != 1):\n",
    "        pass\n",
    "    # get data from BARM_O\n",
    "    bram_sp_arr[25] = 0\n",
    "    \n",
    "    #=============== HW END =====================#\n",
    "    \n",
    "    \n",
    "    return bram_o_arr[0:M * N].astype(np.int32).reshape(M, N)[0:mat1.shape[0], 0:mat2.shape[1]]"
   ]
  },
  {
   "cell_type": "code",
   "execution_count": 12,
   "id": "f4501799",
   "metadata": {},
   "outputs": [],
   "source": [
    "import random\n",
    "\n",
    "def test_OS():\n",
    "    score = 0\n",
    "    num_test = 0\n",
    "    ## OUTPUT STATIONARY TEST\n",
    "    for _ in range (1000):\n",
    "        M = random.randint(1,40)\n",
    "        K = random.randint(1,40)\n",
    "        N = random.randint(1,40)\n",
    "        num_test = num_test +1\n",
    "        mat1 = np.random.randint(-(1<<12), 1<<12 ,size=(M,K)) \n",
    "        mat2 = np.random.randint(-(1<<12), 1<<12 ,size=(K,N)) \n",
    "        CPU = mat1@mat2\n",
    "        FPGA = matmul_OS_proj3(mat1, mat2)\n",
    "\n",
    "        if(np.equal(CPU,FPGA).all()):\n",
    "            score = score +1\n",
    "        else:\n",
    "            print(\"M: \"+str(M) +\" N:  \"+str(K) +\" K: \"+str(N) +\" \")\n",
    "            print(CPU)\n",
    "            print(FPGA)\n",
    "            print(np.equal(FPGA, CPU))\n",
    "            \n",
    "    return score/num_test * 100\n",
    "\n",
    "\n",
    "def test_WS():\n",
    "    score = 0\n",
    "    num_test = 0\n",
    "    ## WEIGHT STATIONARY TEST\n",
    "    for iter_ in range (1000):\n",
    "        \n",
    "        M = random.randint(1,40)\n",
    "        K = random.randint(1,40)\n",
    "        N = random.randint(1,40)\n",
    "        num_test = num_test +1\n",
    "        mat1 = np.random.randint(-(1<<12), 1<<12 ,size=(K,M))\n",
    "        mat2 = np.random.randint(-(1<<12), 1<<12 ,size=(M,N))\n",
    "        FPGA = matmul_WS_proj3(mat1, mat2)\n",
    "        CPU = mat1@mat2\n",
    "        if(np.equal(FPGA, CPU).all()):\n",
    "            score = score + 1\n",
    "        else:\n",
    "            print(\"M: \"+str(M) +\" N:  \"+str(K) +\" K: \"+str(N) +\" \")\n",
    "            print(CPU)\n",
    "            print(FPGA)\n",
    "            print(np.equal(FPGA, CPU))\n",
    "    return score/num_test*100"
   ]
  },
  {
   "cell_type": "code",
   "execution_count": 13,
   "id": "df05a8c8",
   "metadata": {},
   "outputs": [
    {
     "data": {
      "text/plain": [
       "100.0"
      ]
     },
     "execution_count": 13,
     "metadata": {},
     "output_type": "execute_result"
    }
   ],
   "source": [
    "test_OS()"
   ]
  },
  {
   "cell_type": "code",
   "execution_count": 14,
   "id": "fb066b87",
   "metadata": {
    "scrolled": true
   },
   "outputs": [
    {
     "data": {
      "text/plain": [
       "100.0"
      ]
     },
     "execution_count": 14,
     "metadata": {},
     "output_type": "execute_result"
    }
   ],
   "source": [
    "test_WS()"
   ]
  },
  {
   "cell_type": "code",
   "execution_count": 10,
   "id": "cc7856a7",
   "metadata": {},
   "outputs": [],
   "source": [
    "def STEP4_test():\n",
    "    print(\" SCORE : \" + str((test_WS() + test_OS()) * 0.5) + \" / 100 \" )"
   ]
  },
  {
   "cell_type": "code",
   "execution_count": 11,
   "id": "33eff4da",
   "metadata": {},
   "outputs": [
    {
     "name": "stdout",
     "output_type": "stream",
     "text": [
      " SCORE : 100.0 / 100 \n"
     ]
    }
   ],
   "source": [
    "STEP4_test()"
   ]
  }
 ],
 "metadata": {
  "kernelspec": {
   "display_name": "Python 3 (ipykernel)",
   "language": "python",
   "name": "python3"
  },
  "language_info": {
   "codemirror_mode": {
    "name": "ipython",
    "version": 3
   },
   "file_extension": ".py",
   "mimetype": "text/x-python",
   "name": "python",
   "nbconvert_exporter": "python",
   "pygments_lexer": "ipython3",
   "version": "3.10.4"
  }
 },
 "nbformat": 4,
 "nbformat_minor": 5
}
