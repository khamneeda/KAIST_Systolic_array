{
 "cells": [
  {
   "cell_type": "code",
   "execution_count": 1,
   "id": "b340c8f1",
   "metadata": {},
   "outputs": [
    {
     "name": "stdout",
     "output_type": "stream",
     "text": [
      "gcc -Ofast -shared -fPIC -o ./build/lib_c_functions.so src/c_functions.c\r\n"
     ]
    }
   ],
   "source": [
    "!make"
   ]
  },
  {
   "cell_type": "code",
   "execution_count": 2,
   "id": "409c6f10",
   "metadata": {},
   "outputs": [],
   "source": [
    "from lib.util import RunMode, set_run_mode, load_image, process_image, parse_weight, find_all_boxes, nms, plot_boxes\n",
    "from lib.model import YOLOv2\n",
    "from IPython.display import Image\n",
    "\n",
    "import lib.util as util\n",
    "import lib.mytorch.conv as conv\n",
    "\n",
    "def run_test_step5(systolic_array_mode, tile_size, fpga_file_path):\n",
    "    config = {\n",
    "        'run_mode': RunMode.FPGA,\n",
    "        'current_step': 5,\n",
    "        'systolic_array_mode': systolic_array_mode,\n",
    "        'tile_size': tile_size,\n",
    "        'fpga_file_path': fpga_file_path,\n",
    "        'image_path': './data/input/dog.jpg',\n",
    "        'output_path': './prediction.jpg',\n",
    "        'weight_path': './data/weight/yolov2-tiny-voc.weights',\n",
    "        'conf_thresh': 0.5,\n",
    "        'nms_thresh': 0.5,\n",
    "        'class_names' : ['aeroplane', 'bicycle', 'bird', 'boat', 'bottle',\n",
    "                   'bus', 'car', 'cat', 'chair', 'cow', 'diningtable',\n",
    "                   'dog', 'horse', 'motorbike', 'person', 'pottedplant',\n",
    "                   'sheep', 'sofa', 'train', 'TVmonitor'],\n",
    "        'anchors' : [[1.08, 1.19], [3.42, 4.41], [6.63, 11.38], [9.42, 5.11], [16.62, 10.52]]\n",
    "        }\n",
    "    \n",
    "    for k, v in config.items():\n",
    "        util.global_config[k] = v\n",
    "\n",
    "    set_run_mode(config['run_mode'])\n",
    "\n",
    "    if config[\"run_mode\"] == RunMode.FPGA:\n",
    "        conv.init_FPGA(config[\"fpga_file_path\"])\n",
    "\n",
    "    # load weight\n",
    "    yolo_weight = parse_weight(config['weight_path'])\n",
    "\n",
    "    # preprocessing\n",
    "    img = load_image(config['image_path'])\n",
    "    inp = process_image(img)\n",
    "\n",
    "    # intermediate network\n",
    "    output = YOLOv2(inp, yolo_weight)\n",
    "\n",
    "    # postprocessing\n",
    "    boxes = find_all_boxes(output, config['conf_thresh'], len(config['class_names']), config['anchors'])[0]\n",
    "    boxes = nms(boxes, config['nms_thresh'])\n",
    "    plot_boxes(img, boxes, config['output_path'], config['class_names'])\n",
    "    \n",
    "    return config[\"output_path\"]"
   ]
  },
  {
   "cell_type": "code",
   "execution_count": 3,
   "id": "6d4a3b2d",
   "metadata": {},
   "outputs": [
    {
     "data": {
      "application/javascript": [
       "\n",
       "try {\n",
       "require(['notebook/js/codecell'], function(codecell) {\n",
       "  codecell.CodeCell.options_default.highlight_modes[\n",
       "      'magic_text/x-csrc'] = {'reg':[/^%%microblaze/]};\n",
       "  Jupyter.notebook.events.one('kernel_ready.Kernel', function(){\n",
       "      Jupyter.notebook.get_cells().map(function(cell){\n",
       "          if (cell.cell_type == 'code'){ cell.auto_highlight(); } }) ;\n",
       "  });\n",
       "});\n",
       "} catch (e) {};\n"
      ]
     },
     "metadata": {},
     "output_type": "display_data"
    },
    {
     "data": {
      "application/javascript": [
       "\n",
       "try {\n",
       "require(['notebook/js/codecell'], function(codecell) {\n",
       "  codecell.CodeCell.options_default.highlight_modes[\n",
       "      'magic_text/x-csrc'] = {'reg':[/^%%pybind11/]};\n",
       "  Jupyter.notebook.events.one('kernel_ready.Kernel', function(){\n",
       "      Jupyter.notebook.get_cells().map(function(cell){\n",
       "          if (cell.cell_type == 'code'){ cell.auto_highlight(); } }) ;\n",
       "  });\n",
       "});\n",
       "} catch (e) {};\n"
      ]
     },
     "metadata": {},
     "output_type": "display_data"
    },
    {
     "name": "stdout",
     "output_type": "stream",
     "text": [
      "Pad0 in RunMode.FPGA took 38.565 ms to execute.\n",
      "Conv2d0 in RunMode.FPGA took 2316.071 ms to execute.\n",
      "BatchNorm2d0 in RunMode.FPGA took 95.887 ms to execute.\n",
      "MaxPool2d0 in RunMode.FPGA took 65.963 ms to execute.\n",
      "LeakyReLU0 in RunMode.FPGA took 4.713 ms to execute.\n",
      "Pad1 in RunMode.FPGA took 64.172 ms to execute.\n",
      "Conv2d1 in RunMode.FPGA took 3382.349 ms to execute.\n",
      "BatchNorm2d1 in RunMode.FPGA took 50.093 ms to execute.\n",
      "MaxPool2d1 in RunMode.FPGA took 33.984 ms to execute.\n",
      "LeakyReLU1 in RunMode.FPGA took 2.543 ms to execute.\n",
      "Pad2 in RunMode.FPGA took 34.574 ms to execute.\n",
      "Conv2d2 in RunMode.FPGA took 3397.172 ms to execute.\n",
      "BatchNorm2d2 in RunMode.FPGA took 26.221 ms to execute.\n",
      "MaxPool2d2 in RunMode.FPGA took 17.771 ms to execute.\n",
      "LeakyReLU2 in RunMode.FPGA took 1.120 ms to execute.\n",
      "Pad3 in RunMode.FPGA took 18.477 ms to execute.\n",
      "Conv2d3 in RunMode.FPGA took 3337.306 ms to execute.\n",
      "BatchNorm2d3 in RunMode.FPGA took 13.101 ms to execute.\n",
      "MaxPool2d3 in RunMode.FPGA took 9.207 ms to execute.\n",
      "LeakyReLU3 in RunMode.FPGA took 0.716 ms to execute.\n",
      "Pad4 in RunMode.FPGA took 10.687 ms to execute.\n",
      "Conv2d4 in RunMode.FPGA took 3185.133 ms to execute.\n",
      "BatchNorm2d4 in RunMode.FPGA took 6.891 ms to execute.\n",
      "MaxPool2d4 in RunMode.FPGA took 4.940 ms to execute.\n",
      "LeakyReLU4 in RunMode.FPGA took 0.516 ms to execute.\n",
      "Pad5 in RunMode.FPGA took 2.932 ms to execute.\n",
      "Conv2d5 in RunMode.FPGA took 3271.532 ms to execute.\n",
      "BatchNorm2d5 in RunMode.FPGA took 3.596 ms to execute.\n",
      "Pad6 in RunMode.FPGA took 11.599 ms to execute.\n",
      "MaxPool2d5 in RunMode.FPGA took 9.741 ms to execute.\n",
      "LeakyReLU5 in RunMode.FPGA took 0.797 ms to execute.\n",
      "Pad7 in RunMode.FPGA took 5.971 ms to execute.\n",
      "Conv2d6 in RunMode.FPGA took 13046.215 ms to execute.\n",
      "BatchNorm2d6 in RunMode.FPGA took 7.447 ms to execute.\n",
      "LeakyReLU6 in RunMode.FPGA took 1.122 ms to execute.\n",
      "Pad8 in RunMode.FPGA took 11.478 ms to execute.\n",
      "Conv2d7 in RunMode.FPGA took 26045.600 ms to execute.\n",
      "BatchNorm2d7 in RunMode.FPGA took 7.502 ms to execute.\n",
      "LeakyReLU7 in RunMode.FPGA took 1.103 ms to execute.\n",
      "Conv2d8 in RunMode.FPGA took 405.535 ms to execute.\n"
     ]
    },
    {
     "data": {
      "image/jpeg": "[encoded data removed]",
      "text/plain": [
       "<IPython.core.display.Image object>"
      ]
     },
     "execution_count": 3,
     "metadata": {},
     "output_type": "execute_result"
    }
   ],
   "source": [
    "image_path = run_test_step5(systolic_array_mode=\"OS\", tile_size=40, fpga_file_path=\"CS411_team4_step4.bit\")\n",
    "Image(filename=image_path)"
   ]
  },
  {
   "cell_type": "code",
   "execution_count": 4,
   "id": "0ae5528d",
   "metadata": {},
   "outputs": [
    {
     "name": "stdout",
     "output_type": "stream",
     "text": [
      "Pad9 in RunMode.FPGA took 38.458 ms to execute.\n",
      "Conv2d9 in RunMode.FPGA took 2358.855 ms to execute.\n",
      "BatchNorm2d8 in RunMode.FPGA took 95.947 ms to execute.\n",
      "MaxPool2d6 in RunMode.FPGA took 65.750 ms to execute.\n",
      "LeakyReLU8 in RunMode.FPGA took 4.621 ms to execute.\n",
      "Pad10 in RunMode.FPGA took 64.266 ms to execute.\n",
      "Conv2d10 in RunMode.FPGA took 3467.689 ms to execute.\n",
      "BatchNorm2d9 in RunMode.FPGA took 50.069 ms to execute.\n",
      "MaxPool2d7 in RunMode.FPGA took 33.982 ms to execute.\n",
      "LeakyReLU9 in RunMode.FPGA took 2.548 ms to execute.\n",
      "Pad11 in RunMode.FPGA took 34.425 ms to execute.\n",
      "Conv2d11 in RunMode.FPGA took 3478.892 ms to execute.\n",
      "BatchNorm2d10 in RunMode.FPGA took 26.234 ms to execute.\n",
      "MaxPool2d8 in RunMode.FPGA took 17.781 ms to execute.\n",
      "LeakyReLU10 in RunMode.FPGA took 1.180 ms to execute.\n",
      "Pad12 in RunMode.FPGA took 18.487 ms to execute.\n",
      "Conv2d12 in RunMode.FPGA took 3430.537 ms to execute.\n",
      "BatchNorm2d11 in RunMode.FPGA took 13.021 ms to execute.\n",
      "MaxPool2d9 in RunMode.FPGA took 9.277 ms to execute.\n",
      "LeakyReLU11 in RunMode.FPGA took 0.717 ms to execute.\n",
      "Pad13 in RunMode.FPGA took 10.672 ms to execute.\n",
      "Conv2d13 in RunMode.FPGA took 3271.759 ms to execute.\n",
      "BatchNorm2d12 in RunMode.FPGA took 6.817 ms to execute.\n",
      "MaxPool2d10 in RunMode.FPGA took 4.976 ms to execute.\n",
      "LeakyReLU12 in RunMode.FPGA took 0.530 ms to execute.\n",
      "Pad14 in RunMode.FPGA took 2.931 ms to execute.\n",
      "Conv2d14 in RunMode.FPGA took 3366.408 ms to execute.\n",
      "BatchNorm2d13 in RunMode.FPGA took 3.597 ms to execute.\n",
      "Pad15 in RunMode.FPGA took 11.576 ms to execute.\n",
      "MaxPool2d11 in RunMode.FPGA took 9.727 ms to execute.\n",
      "LeakyReLU13 in RunMode.FPGA took 0.743 ms to execute.\n",
      "Pad16 in RunMode.FPGA took 6.022 ms to execute.\n",
      "Conv2d15 in RunMode.FPGA took 13480.385 ms to execute.\n",
      "BatchNorm2d14 in RunMode.FPGA took 7.487 ms to execute.\n",
      "LeakyReLU14 in RunMode.FPGA took 1.199 ms to execute.\n",
      "Pad17 in RunMode.FPGA took 11.492 ms to execute.\n",
      "Conv2d16 in RunMode.FPGA took 26874.736 ms to execute.\n",
      "BatchNorm2d15 in RunMode.FPGA took 7.510 ms to execute.\n",
      "LeakyReLU15 in RunMode.FPGA took 1.173 ms to execute.\n",
      "Conv2d17 in RunMode.FPGA took 416.076 ms to execute.\n"
     ]
    },
    {
     "data": {
      "image/jpeg": "[encoded data removed]",
      "text/plain": [
       "<IPython.core.display.Image object>"
      ]
     },
     "execution_count": 4,
     "metadata": {},
     "output_type": "execute_result"
    }
   ],
   "source": [
    "image_path = run_test_step5(systolic_array_mode=\"WS\", tile_size=40, fpga_file_path=\"CS411_team4_step4.bit\")\n",
    "Image(filename=image_path)"
   ]
  },
  {
   "cell_type": "code",
   "execution_count": null,
   "id": "f3bca601",
   "metadata": {},
   "outputs": [],
   "source": []
  }
 ],
 "metadata": {
  "kernelspec": {
   "display_name": "Python 3 (ipykernel)",
   "language": "python",
   "name": "python3"
  },
  "language_info": {
   "codemirror_mode": {
    "name": "ipython",
    "version": 3
   },
   "file_extension": ".py",
   "mimetype": "text/x-python",
   "name": "python",
   "nbconvert_exporter": "python",
   "pygments_lexer": "ipython3",
   "version": "3.10.4"
  }
 },
 "nbformat": 4,
 "nbformat_minor": 5
}
