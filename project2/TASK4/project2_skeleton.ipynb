{
 "cells": [
  {
   "cell_type": "code",
   "execution_count": null,
   "id": "09ac11c9",
   "metadata": {},
   "outputs": [],
   "source": [
    "from pynq import Overlay\n",
    "import numpy as np\n",
    "ol = Overlay(\"YOUR_bit_file.bit\") "
   ]
  },
  {
   "cell_type": "code",
   "execution_count": null,
   "id": "219e6147",
   "metadata": {},
   "outputs": [],
   "source": [
    "ol?"
   ]
  },
  {
   "cell_type": "markdown",
   "id": "608b571d",
   "metadata": {},
   "source": [
    "you can check frequency"
   ]
  },
  {
   "cell_type": "code",
   "execution_count": null,
   "id": "34d5710a",
   "metadata": {},
   "outputs": [],
   "source": [
    "import pynq\n",
    "print(pynq.ps.Clocks.fclk0_mhz)"
   ]
  },
  {
   "cell_type": "code",
   "execution_count": null,
   "id": "fa3018f6",
   "metadata": {},
   "outputs": [],
   "source": [
    "# The name \"axi_bram_ctrl_0 1 2 3\" might vary depending on how you construct the block diagram in our specific scenario.\n",
    "\n",
    "bram_sp_arr = ol.axi_bram_ctrl_0.mmio.array\n",
    "bram_a_arr = ol.axi_bram_ctrl_1.mmio.array\n",
    "bram_w_arr = ol.axi_bram_ctrl_2.mmio.array\n",
    "bram_o_arr = ol.axi_bram_ctrl_3.mmio.array"
   ]
  },
  {
   "cell_type": "markdown",
   "id": "fccd9ed2",
   "metadata": {},
   "source": [
    "# TODO \n",
    "#### You need to create functions for matrix multiplication (matmul_OS, matmul_WS).\n",
    "#### The parts marked as #TODO are the sections where you need to write the code. It's okay if the code spans multiple lines. The data going into the FPGA (serial_mat1, serial_mat2) should only consist of MxK, NxK (OS) or MxK NxM (WS) sized data for the operation, and it should not be padded before sending it in."
   ]
  },
  {
   "cell_type": "code",
   "execution_count": null,
   "id": "0d5e0bad",
   "metadata": {},
   "outputs": [],
   "source": [
    "def matmul_OS (mat1: np.array, mat2: np.array):\n",
    "    M = mat1.shape[0]\n",
    "    K = mat1.shape[1]\n",
    "    N = mat2.shape[1]\n",
    "    \n",
    "    assert(mat1.shape[1] == mat2.shape[0])\n",
    "    assert(M <= 8 and N <= 8 and K <= 8)\n",
    "    # START\n",
    "    # modify mat1 and mat2 (not allowed: padding, allowed: reshape, flatten)\n",
    "    serial_mat1 = mat1.flatten()\n",
    "    serial_mat2 = mat2.flatten()\n",
    "    # load data to BRAM (send MxK elements, NxK elements)\n",
    "    assert(serial_mat1.shape[0] == M*K and serial_mat2.shape[0] == N*K)\n",
    "    bram_a_arr[0:serial_mat1.shape[0]] = serial_mat1\n",
    "    bram_w_arr[0:serial_mat2.shape[0]] = serial_mat2\n",
    "    # set Special Memory to specify M,K,N and mode (1: OS)\n",
    "    #TODO\n",
    "    bram_sp_arr[1] = 1\n",
    "    bram_sp_arr[2] = M\n",
    "    bram_sp_arr[3] = K\n",
    "    bram_sp_arr[4] = N\n",
    "    # start (set sp(addr0) = 1)\n",
    "    # TODO \n",
    "    bram_sp_arr[0] = 1\n",
    "    #while until sp(addr100) =>1 \n",
    "    while(bram_sp_arr[25] != 1):\n",
    "        print('wait')\n",
    "        \n",
    "    # return result  \n",
    "    # TODO  \n",
    "    result_mat = bram_o_arr[0:M*N]\n",
    "    result_mat.reshape(M, N)\n",
    "    return result_mat\n",
    "    # END\n",
    "\n",
    "\n",
    "def matmul_WS (mat1: np.array, mat2: np.array):\n",
    "    M = mat1.shape[0]\n",
    "    K = mat1.shape[1]\n",
    "    N = mat2.shape[1]\n",
    "    assert(mat1.shape[1] == mat2.shape[0])\n",
    "    assert(K <= 8 and M <= 8 and N <= 8)\n",
    "    \n",
    "    # START\n",
    "    # modify mat1 and amt2\n",
    "    serial_mat1 = mat1.flatten()\n",
    "    serial_mat2 = mat2.flatten()\n",
    "    # load data to BRAM \n",
    "    assert(serial_mat1.shape[0] == M*K and serial_mat2.shape[0] == N*M)\n",
    "    bram_a_arr[0:serial_mat1.shape[0]] = serial_mat1\n",
    "    bram_w_arr[0:serial_mat2.shape[0]] = serial_mat2\n",
    "    # set Special Memory to specify M,K,N and mode (1: OS)\n",
    "    # TODO\n",
    "    bram_sp_arr[1] = 0\n",
    "    bram_sp_arr[2] = M\n",
    "    bram_sp_arr[3] = K\n",
    "    bram_sp_arr[4] = N\n",
    "    # start (set sp(addr0) = 1)\n",
    "    # TODO\n",
    "    bram_sp_arr[0] = 1\n",
    "    #while until sp(addr100) =>1 \n",
    "    while(bram_sp_arr[25] != 1):\n",
    "        print('wait')\n",
    "        \n",
    "    #return result\n",
    "    # TODO \n",
    "    result_mat = bram_o_arr[0:M*N]\n",
    "    result_mat.reshape(M, N)\n",
    "    return result_mat\n",
    "    # END"
   ]
  },
  {
   "cell_type": "markdown",
   "id": "18833ca3",
   "metadata": {},
   "source": [
    "## TEST code"
   ]
  },
  {
   "cell_type": "code",
   "execution_count": 3,
   "id": "f4501799",
   "metadata": {},
   "outputs": [],
   "source": [
    "import random\n",
    "def test_OS():\n",
    "    score = 0\n",
    "    num_test = 0\n",
    "    ## OUTPUT STATIONARY TEST\n",
    "    for _ in range (1000):\n",
    "        M = random.randint(1,8)\n",
    "        K = random.randint(1,8)\n",
    "        N = random.randint(1,8)\n",
    "        num_test = num_test +1\n",
    "        mat1 = np.random.randint(10,size=(M,K)) \n",
    "        mat2 = np.random.randint(10,size=(K,N))    \n",
    "        if(np.equal(matmul_OS(mat1, mat2),mat1@mat2).all()):\n",
    "            score = score +1\n",
    "            \n",
    "    return score/num_test * 100"
   ]
  },
  {
   "cell_type": "code",
   "execution_count": 1,
   "id": "20e58933",
   "metadata": {
    "scrolled": false
   },
   "outputs": [],
   "source": [
    "def test_WS():\n",
    "    score = 0\n",
    "    num_test = 0\n",
    "    ## WEIGHT STATIONARY TEST\n",
    "    for _ in range (1000):\n",
    "        M = random.randint(1,8)\n",
    "        K = random.randint(1,8)\n",
    "        N = random.randint(1,8)\n",
    "        num_test = num_test +1\n",
    "        mat1 = np.random.randint(10,size=(K,M)) \n",
    "        mat2 = np.random.randint(10,size=(M,N)) \n",
    "        if(np.equal(matmul_WS(mat1, mat2), mat1@mat2).all()):\n",
    "            score = score + 1\n",
    "    return score/num_test*100"
   ]
  },
  {
   "cell_type": "code",
   "execution_count": null,
   "id": "fb066b87",
   "metadata": {},
   "outputs": [],
   "source": [
    "def project2_test():\n",
    "    print(\" SCORE : \" + str((test_WS() + test_OS()) * 0.5) + \" / 100 \" )"
   ]
  },
  {
   "cell_type": "markdown",
   "id": "3ea5a3df",
   "metadata": {},
   "source": [
    "Check your score"
   ]
  },
  {
   "cell_type": "code",
   "execution_count": null,
   "id": "2f357fe1",
   "metadata": {},
   "outputs": [],
   "source": [
    "project2_test()"
   ]
  }
 ],
 "metadata": {
  "kernelspec": {
   "display_name": "Python 3 (ipykernel)",
   "language": "python",
   "name": "python3"
  },
  "language_info": {
   "codemirror_mode": {
    "name": "ipython",
    "version": 3
   },
   "file_extension": ".py",
   "mimetype": "text/x-python",
   "name": "python",
   "nbconvert_exporter": "python",
   "pygments_lexer": "ipython3",
   "version": "3.10.4"
  }
 },
 "nbformat": 4,
 "nbformat_minor": 5
}
