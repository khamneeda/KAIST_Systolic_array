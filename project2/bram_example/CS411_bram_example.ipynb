{
 "cells": [
  {
   "cell_type": "markdown",
   "id": "615a8210",
   "metadata": {},
   "source": [
    "# CS411_bram_example\n",
    "## import pynq and load \"bit stream\" file.\n",
    "###      Description of this module's operation: \"Add two integers\"\n",
    "###      operand 1 : bram_in1 addr 0\n",
    "###      operand 2 : bram_in2 addr 0\n",
    "###      result         : bram_out addr 0 \n",
    "###      (important) To understand how it works, please observe the block diagram in VIVADO."
   ]
  },
  {
   "cell_type": "code",
   "execution_count": 2,
   "id": "dbe66dbe",
   "metadata": {},
   "outputs": [
    {
     "data": {
      "application/javascript": [
       "\n",
       "try {\n",
       "require(['notebook/js/codecell'], function(codecell) {\n",
       "  codecell.CodeCell.options_default.highlight_modes[\n",
       "      'magic_text/x-csrc'] = {'reg':[/^%%microblaze/]};\n",
       "  Jupyter.notebook.events.one('kernel_ready.Kernel', function(){\n",
       "      Jupyter.notebook.get_cells().map(function(cell){\n",
       "          if (cell.cell_type == 'code'){ cell.auto_highlight(); } }) ;\n",
       "  });\n",
       "});\n",
       "} catch (e) {};\n"
      ]
     },
     "metadata": {},
     "output_type": "display_data"
    },
    {
     "data": {
      "application/javascript": [
       "\n",
       "try {\n",
       "require(['notebook/js/codecell'], function(codecell) {\n",
       "  codecell.CodeCell.options_default.highlight_modes[\n",
       "      'magic_text/x-csrc'] = {'reg':[/^%%pybind11/]};\n",
       "  Jupyter.notebook.events.one('kernel_ready.Kernel', function(){\n",
       "      Jupyter.notebook.get_cells().map(function(cell){\n",
       "          if (cell.cell_type == 'code'){ cell.auto_highlight(); } }) ;\n",
       "  });\n",
       "});\n",
       "} catch (e) {};\n"
      ]
     },
     "metadata": {},
     "output_type": "display_data"
    }
   ],
   "source": [
    "from pynq import Overlay\n",
    "ol = Overlay(\"CS411_bram_example.bit\")"
   ]
  },
  {
   "cell_type": "markdown",
   "id": "8de6dee8",
   "metadata": {},
   "source": [
    "## ol?\n",
    "### check the bram attributes name\n",
    "### - axi_bram_ctrl_0 , 1, 2"
   ]
  },
  {
   "cell_type": "code",
   "execution_count": 3,
   "id": "8c3fc3ee",
   "metadata": {},
   "outputs": [],
   "source": [
    "ol?"
   ]
  },
  {
   "cell_type": "markdown",
   "id": "a584c033",
   "metadata": {},
   "source": [
    "## make instance \n",
    "### This is used for sending data set to BRAM"
   ]
  },
  {
   "cell_type": "code",
   "execution_count": 4,
   "id": "a0f6eee7",
   "metadata": {},
   "outputs": [],
   "source": [
    "bram_in1 = ol.axi_bram_ctrl_0.mmio.array\n",
    "bram_in2 = ol.axi_bram_ctrl_1.mmio.array\n",
    "bram_out = ol.axi_bram_ctrl_2.mmio.array"
   ]
  },
  {
   "cell_type": "markdown",
   "id": "d366d1c9",
   "metadata": {},
   "source": [
    "### print(bram_in1[0:n]) prints bram contents from address 0 to address 4xn-1 (array index 0 ... n-1)"
   ]
  },
  {
   "cell_type": "code",
   "execution_count": 4,
   "id": "64cc4586",
   "metadata": {},
   "outputs": [
    {
     "name": "stdout",
     "output_type": "stream",
     "text": [
      "[0 0 0 0]\n",
      "[0 0 0 0]\n",
      "[0 0 0 0]\n"
     ]
    }
   ],
   "source": [
    "print(bram_in1[0:4])\n",
    "print(bram_in2[0:4])\n",
    "print(bram_out[0:4])"
   ]
  },
  {
   "cell_type": "markdown",
   "id": "8aaec59d",
   "metadata": {},
   "source": [
    "### insert data to BRAM\n",
    "#### (important) ref : https://www.youtube.com/watch?v=zbumITJQ2Z8 [Using PYNQ MMIO (Memory Mapped IO)]"
   ]
  },
  {
   "cell_type": "code",
   "execution_count": 10,
   "id": "119b7273",
   "metadata": {},
   "outputs": [],
   "source": [
    "bram_in1[0]=9\n",
    "bram_in2[0]=8"
   ]
  },
  {
   "cell_type": "markdown",
   "id": "a5abcf4d",
   "metadata": {},
   "source": [
    "### check result"
   ]
  },
  {
   "cell_type": "code",
   "execution_count": 11,
   "id": "60d86341",
   "metadata": {},
   "outputs": [
    {
     "name": "stdout",
     "output_type": "stream",
     "text": [
      "17\n"
     ]
    }
   ],
   "source": [
    "print(bram_out[0])"
   ]
  },
  {
   "cell_type": "code",
   "execution_count": null,
   "id": "382786a3",
   "metadata": {},
   "outputs": [],
   "source": []
  }
 ],
 "metadata": {
  "kernelspec": {
   "display_name": "Python 3 (ipykernel)",
   "language": "python",
   "name": "python3"
  },
  "language_info": {
   "codemirror_mode": {
    "name": "ipython",
    "version": 3
   },
   "file_extension": ".py",
   "mimetype": "text/x-python",
   "name": "python",
   "nbconvert_exporter": "python",
   "pygments_lexer": "ipython3",
   "version": "3.10.4"
  }
 },
 "nbformat": 4,
 "nbformat_minor": 5
}
